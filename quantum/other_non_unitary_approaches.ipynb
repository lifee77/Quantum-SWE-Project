{
 "cells": [
  {
   "cell_type": "markdown",
   "id": "3368a038",
   "metadata": {},
   "source": [
    "# Try 1 – Decomposition into Two Unitary Operators\n",
    "\n",
    "Childs, A. M., & Wiebe, N. (2012). Hamiltonian simulation using linear combinations of unitary operations. Quantum Information and Computation, 12(11 & 12). https://doi.org/10.26421/qic12.11-12\n",
    "\n",
    "Here we randomly generate candidate unitaries and complex coefficients and then search for the best (least‐error) approximation to U. (Note that a proper decomposition should have zero error, but in our random search the minimum error remains nonzero.)"
   ]
  },
  {
   "cell_type": "code",
   "execution_count": 1,
   "id": "f96ffc66",
   "metadata": {},
   "outputs": [
    {
     "name": "stdout",
     "output_type": "stream",
     "text": [
      "a = 0.10 : Best error = 0.7624\n",
      "a = 0.30 : Best error = 0.6504\n",
      "a = 0.50 : Best error = 0.7896\n",
      "a = 0.70 : Best error = 0.6736\n",
      "a = 0.90 : Best error = 0.9005\n"
     ]
    }
   ],
   "source": [
    "import numpy as np\n",
    "\n",
    "def random_unitary_2x2():\n",
    "    \"\"\"\n",
    "    Generate a random 2x2 unitary using the QR decomposition of \n",
    "    a random complex Gaussian matrix.\n",
    "    \"\"\"\n",
    "    X = np.random.randn(2,2) + 1j*np.random.randn(2,2)\n",
    "    Q, R = np.linalg.qr(X)\n",
    "    # Adjust phases from the diagonal of R\n",
    "    D = np.diag(np.diag(R) / np.abs(np.diag(R)))\n",
    "    return Q @ D\n",
    "\n",
    "def try_decompose_two_unitaries(a, n_iter=10000):\n",
    "    \"\"\"\n",
    "    Attempt to decompose U (depending on parameter a) as a linear \n",
    "    combination of two 2x2 unitaries:\n",
    "        U ≈ c1 * U1 + c2 * U2.\n",
    "    Returns the smallest error found and the corresponding parameters.\n",
    "    \"\"\"\n",
    "    U_target = np.array([[np.sqrt(1-a), 0],\n",
    "                         [np.sqrt(a), 1]], dtype=complex)\n",
    "    best_error = np.inf\n",
    "    best_params = None\n",
    "    for _ in range(n_iter):\n",
    "        U1 = random_unitary_2x2()\n",
    "        U2 = random_unitary_2x2()\n",
    "        # Random complex coefficients in a moderate range\n",
    "        c1 = np.random.uniform(-2,2) + 1j*np.random.uniform(-2,2)\n",
    "        c2 = np.random.uniform(-2,2) + 1j*np.random.uniform(-2,2)\n",
    "        candidate = c1 * U1 + c2 * U2\n",
    "        error = np.linalg.norm(candidate - U_target)\n",
    "        if error < best_error:\n",
    "            best_error = error\n",
    "            best_params = (c1, c2, U1, U2)\n",
    "    return best_error, best_params\n",
    "\n",
    "# Test for various a values\n",
    "a_values = np.linspace(0.1, 0.9, 5)\n",
    "for a in a_values:\n",
    "    error, params = try_decompose_two_unitaries(a, n_iter=10000)\n",
    "    print(f\"a = {a:.2f} : Best error = {error:.4f}\")\n"
   ]
  },
  {
   "cell_type": "markdown",
   "id": "83f83bea",
   "metadata": {},
   "source": [
    "The numerical experiments for approximating the non-unitary operator\n",
    "$$\n",
    "U = \\begin{bmatrix}\\sqrt{1-a} & 0 \\\\ \\sqrt{a} & 1\\end{bmatrix}\n",
    "$$\n",
    "as a linear combination of two unitary operators,\n",
    "$$\n",
    "U \\approx c_1 U_1 + c_2 U_2,\n",
    "$$\n",
    "yielded best approximation errors in the range of approximately 0.65 to 0.90 for the tested values of \\(a\\). For example, for \\(a = 0.10,\\, 0.30,\\, 0.50,\\, 0.70,\\) and \\(0.90\\), the best errors were found to be \n",
    "$$\n",
    "0.7624,\\quad 0.6504,\\quad 0.7896,\\quad 0.6736,\\quad 0.9005,\n",
    "$$\n",
    "respectively.\n",
    "\n",
    "These significant errors indicate that the operator \\(U\\) cannot be accurately decomposed into a sum of just two unitaries. Consequently, this result supports the use of the augmented unitary method—where an ancillary qubit is added to embed the non-unitary operator into a larger unitary matrix as proposed by Lin et al. (2021)—as the more viable approach for accurately implementing the desired transformation in the quantum circuit."
   ]
  },
  {
   "cell_type": "markdown",
   "id": "093c69b4",
   "metadata": {},
   "source": [
    "# Try 2 – Decomposition into Hermitian and Anti-Hermitian Parts\n",
    "\n",
    "Schlimgen, A. W., Head-Marsden, K., Sager, L. M., Narang, P., & Mazziotti, D. A. (2021). Quantum simulation of open quantum systems using a unitary decomposition of operators. *Physical Review Letters*, *127*(27). https://doi.org/10.1103/physrevlett.127.270503\n",
    "\n",
    "The method requires four ancillas for each non-unitary operation applied. That would simply be too much and we would not be able to use them. We require 8 non-unitary operations for 3 qubits (1 → 2, 1 → 3, 2→ 1, 2→3, ….). Furthermore, the result of the ancillas is important for the calculation later\n",
    "\n",
    "We can still manage with 3 qubits, so we would have 3 main qubits and 24 ancillas. Or, we reduce the dependencies to only one edge.\n",
    "\n",
    "Any operator $U$ can be written as\n",
    "$$\n",
    "U = \\frac{U + U^\\dagger}{2} + \\frac{U - U^\\dagger}{2} \\equiv H + A,\n",
    "$$\n",
    "where $H$ is the Hermitian part and $A$ is the anti-Hermitian part of $U$. In principle, one might reconstruct $ U $ by treating these components separately and recombining their effects via a Trotter–Suzuki approximation. The idea is that, by alternating the evolutions generated by $ H $ and $ A $ over sufficiently small time steps, the overall evolution should approximate the target operator $ U $. "
   ]
  },
  {
   "cell_type": "code",
   "execution_count": 2,
   "id": "9c3a81de",
   "metadata": {},
   "outputs": [
    {
     "name": "stdout",
     "output_type": "stream",
     "text": [
      "a = 0.10 : Trotter approximation error = 2.4276\n",
      "a = 0.20 : Trotter approximation error = 2.4205\n",
      "a = 0.30 : Trotter approximation error = 2.4086\n",
      "a = 0.40 : Trotter approximation error = 2.3919\n",
      "a = 0.50 : Trotter approximation error = 2.3701\n",
      "a = 0.60 : Trotter approximation error = 2.3429\n",
      "a = 0.70 : Trotter approximation error = 2.3096\n",
      "a = 0.80 : Trotter approximation error = 2.2687\n",
      "a = 0.90 : Trotter approximation error = 2.2163\n"
     ]
    },
    {
     "data": {
      "image/png": "[encoded data removed]",
      "text/plain": [
       "<Figure size 640x480 with 1 Axes>"
      ]
     },
     "metadata": {},
     "output_type": "display_data"
    }
   ],
   "source": [
    "import numpy as np\n",
    "import scipy.linalg as la\n",
    "import matplotlib.pyplot as plt\n",
    "\n",
    "def decompose_hermitian_antihermitian(U):\n",
    "    \"\"\"\n",
    "    Decompose U into its Hermitian (H) and anti-Hermitian (A) parts.\n",
    "    \"\"\"\n",
    "    H = (U + U.conjugate().T) / 2\n",
    "    A = (U - U.conjugate().T) / 2\n",
    "    return H, A\n",
    "\n",
    "def trotter_approximation(U, n_steps=10):\n",
    "    \"\"\"\n",
    "    Approximate U using a Trotter-like expansion of its Hermitian and\n",
    "    anti-Hermitian parts.\n",
    "    \n",
    "    U_approx = ( exp[(H + A)/n_steps] )^n_steps.\n",
    "    \n",
    "    Returns the approximation and the norm error.\n",
    "    \"\"\"\n",
    "    H, A = decompose_hermitian_antihermitian(U)\n",
    "    # Compute the \"infinitesimal\" update\n",
    "    U_step = la.expm((H + A) / n_steps)\n",
    "    U_approx = la.fractional_matrix_power(U_step, n_steps)\n",
    "    error = np.linalg.norm(U - U_approx)\n",
    "    return U_approx, error, H, A\n",
    "\n",
    "# Test for a range of a values\n",
    "errors = []\n",
    "a_test = np.linspace(0.1, 0.9, 9)\n",
    "for a in a_test:\n",
    "    U = np.array([[np.sqrt(1-a), 0],\n",
    "                  [np.sqrt(a), 1]], dtype=complex)\n",
    "    U_approx, error, H, A = trotter_approximation(U, n_steps=10)\n",
    "    errors.append(error)\n",
    "    print(f\"a = {a:.2f} : Trotter approximation error = {error:.4f}\")\n",
    "    \n",
    "plt.plot(a_test, errors, marker='o')\n",
    "plt.xlabel(\"a\")\n",
    "plt.ylabel(\"Approximation Error\")\n",
    "plt.title(\"Trotter Approximation Error vs. a\")\n",
    "plt.grid(True)\n",
    "plt.show()\n"
   ]
  },
  {
   "cell_type": "markdown",
   "id": "8a7b7ad2",
   "metadata": {},
   "source": [
    "The Trotter approximation based on the decomposition of $U$ into its Hermitian and anti-Hermitian parts yielded consistently high errors. For instance, the approximation errors obtained are:\n",
    "$$\n",
    "2.4276 \\quad (a=0.10),\\quad 2.4205 \\quad (a=0.20),\\quad 2.4086 \\quad (a=0.30),\\quad 2.3919 \\quad (a=0.40),\n",
    "$$\n",
    "$$\n",
    "2.3701 \\quad (a=0.50),\\quad 2.3429 \\quad (a=0.60),\\quad 2.3096 \\quad (a=0.70),\\quad 2.2687 \\quad (a=0.80),\\quad 2.2163 \\quad (a=0.90).\n",
    "$$\n",
    "\n",
    "These results indicate that the Trotter approximation does not converge to the desired operator $U$ with sufficient accuracy, as the residual error remains on the order of $\\sim 2.2 - 2.4$ across the range of $a$ values. This high error level confirms that the straightforward Hermitian and anti-Hermitian decomposition approach, even when applied with a moderate number of Trotter steps, is unsuitable for accurately implementing the non-unitary operation in our context.\n",
    "\n",
    "Consequently, these findings reinforce the decision to favor the augmented unitary embedding method proposed by Lin et al. (2021), which, despite its increased resource overhead, more reliably realizes the desired transformation in the quantum circuit.\n"
   ]
  },
  {
   "cell_type": "code",
   "execution_count": null,
   "id": "a404389e",
   "metadata": {},
   "outputs": [],
   "source": []
  }
 ],
 "metadata": {
  "kernelspec": {
   "display_name": ".venv",
   "language": "python",
   "name": "python3"
  },
  "language_info": {
   "codemirror_mode": {
    "name": "ipython",
    "version": 3
   },
   "file_extension": ".py",
   "mimetype": "text/x-python",
   "name": "python",
   "nbconvert_exporter": "python",
   "pygments_lexer": "ipython3",
   "version": "3.12.7"
  }
 },
 "nbformat": 4,
 "nbformat_minor": 5
}
