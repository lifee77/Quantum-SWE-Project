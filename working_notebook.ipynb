{
 "cells": [
  {
   "cell_type": "code",
   "execution_count": 28,
   "metadata": {},
   "outputs": [],
   "source": [
    "from qiskit.circuit.library import UnitaryGate\n",
    "import qiskit\n",
    "from qiskit_ibm_runtime import QiskitRuntimeService\n",
    "from qiskit import QuantumCircuit, ClassicalRegister, QuantumRegister, transpile\n",
    "from collections import Counter  \n",
    "import numpy as np\n",
    "import networkx as nx\n",
    "import matplotlib.pyplot as plt  \n",
    "#from controlled_gates import append_conditional_gates"
   ]
  },
  {
   "cell_type": "code",
   "execution_count": null,
   "metadata": {},
   "outputs": [
    {
     "ename": "ValueError",
     "evalue": "Input matrix is not unitary.",
     "output_type": "error",
     "traceback": [
      "\u001b[1;31m---------------------------------------------------------------------------\u001b[0m",
      "\u001b[1;31mValueError\u001b[0m                                Traceback (most recent call last)",
      "Cell \u001b[1;32mIn[31], line 25\u001b[0m\n\u001b[0;32m     19\u001b[0m single_qubit_matrix \u001b[38;5;241m=\u001b[39m np\u001b[38;5;241m.\u001b[39marray([\n\u001b[0;32m     20\u001b[0m     [np\u001b[38;5;241m.\u001b[39msqrt(\u001b[38;5;241m1\u001b[39m\u001b[38;5;241m-\u001b[39mp),       \u001b[38;5;241m0\u001b[39m         ],\n\u001b[0;32m     21\u001b[0m     [\u001b[38;5;241m1\u001b[39mj \u001b[38;5;241m*\u001b[39m np\u001b[38;5;241m.\u001b[39msqrt(p),    \u001b[38;5;241m1\u001b[39m         ]\n\u001b[0;32m     22\u001b[0m ], dtype\u001b[38;5;241m=\u001b[39m\u001b[38;5;28mcomplex\u001b[39m)\n\u001b[0;32m     24\u001b[0m \u001b[38;5;66;03m# Create a UnitaryGate object from the matrix\u001b[39;00m\n\u001b[1;32m---> 25\u001b[0m single_qubit_gate \u001b[38;5;241m=\u001b[39m \u001b[43mUnitaryGate\u001b[49m\u001b[43m(\u001b[49m\u001b[43msingle_qubit_matrix\u001b[49m\u001b[43m,\u001b[49m\u001b[43m \u001b[49m\u001b[43mlabel\u001b[49m\u001b[38;5;241;43m=\u001b[39;49m\u001b[38;5;124;43m\"\u001b[39;49m\u001b[38;5;124;43mMyGate\u001b[39;49m\u001b[38;5;124;43m\"\u001b[39;49m\u001b[43m)\u001b[49m\n\u001b[0;32m     27\u001b[0m \u001b[38;5;66;03m# Convert it to a controlled gate (1 control qubit)\u001b[39;00m\n\u001b[0;32m     28\u001b[0m controlled_gate \u001b[38;5;241m=\u001b[39m single_qubit_gate\u001b[38;5;241m.\u001b[39mcontrol(num_ctrl_qubits\u001b[38;5;241m=\u001b[39m\u001b[38;5;241m1\u001b[39m)\n",
      "File \u001b[1;32mc:\\Users\\Kichi\\AppData\\Local\\Programs\\Python\\Python313\\Lib\\site-packages\\qiskit\\circuit\\library\\generalized_gates\\unitary.py:102\u001b[0m, in \u001b[0;36mUnitaryGate.__init__\u001b[1;34m(self, data, label, check_input, num_qubits)\u001b[0m\n\u001b[0;32m     99\u001b[0m \u001b[38;5;28;01mif\u001b[39;00m check_input:\n\u001b[0;32m    100\u001b[0m     \u001b[38;5;66;03m# Check input is unitary\u001b[39;00m\n\u001b[0;32m    101\u001b[0m     \u001b[38;5;28;01mif\u001b[39;00m \u001b[38;5;129;01mnot\u001b[39;00m is_unitary_matrix(data):\n\u001b[1;32m--> 102\u001b[0m         \u001b[38;5;28;01mraise\u001b[39;00m \u001b[38;5;167;01mValueError\u001b[39;00m(\u001b[38;5;124m\"\u001b[39m\u001b[38;5;124mInput matrix is not unitary.\u001b[39m\u001b[38;5;124m\"\u001b[39m)\n\u001b[0;32m    103\u001b[0m     \u001b[38;5;66;03m# Check input is N-qubit matrix\u001b[39;00m\n\u001b[0;32m    104\u001b[0m     \u001b[38;5;28;01mif\u001b[39;00m input_dim \u001b[38;5;241m!=\u001b[39m output_dim \u001b[38;5;129;01mor\u001b[39;00m \u001b[38;5;241m2\u001b[39m\u001b[38;5;241m*\u001b[39m\u001b[38;5;241m*\u001b[39mnum_qubits \u001b[38;5;241m!=\u001b[39m input_dim:\n",
      "\u001b[1;31mValueError\u001b[0m: Input matrix is not unitary."
     ]
    },
    {
     "ename": "",
     "evalue": "",
     "output_type": "error",
     "traceback": [
      "\u001b[1;31mThe Kernel crashed while executing code in the current cell or a previous cell. \n",
      "\u001b[1;31mPlease review the code in the cell(s) to identify a possible cause of the failure. \n",
      "\u001b[1;31mClick <a href='https://aka.ms/vscodeJupyterKernelCrash'>here</a> for more info. \n",
      "\u001b[1;31mView Jupyter <a href='command:jupyter.viewOutput'>log</a> for further details."
     ]
    }
   ],
   "source": [
    "num_qubits = 3\n",
    "qr = QuantumRegister(num_qubits,'q')\n",
    "\n",
    "\n",
    "#adjacency_matrix = np.loadtxt(\"adjacency_matrix.csv\", delimiter=\",\")\n",
    "\n",
    "adjacency_matrix = [[1.00,0.10,0.13],\n",
    "                    [0.20,1.00,0.50],\n",
    "                    [0.17,0.30,1.00]]\n",
    "# each a_ij is p(i_failing|j_failing)\n",
    "\n",
    "# Define the parameter p\n",
    "p = adjacency_matrix[0][1]\n",
    "\n",
    "# Define the 2x2 matrix for the single-qubit gate\n",
    "# U = [[sqrt(1-p),       0     ],\n",
    "#      [ i*sqrt(p),      1     ]]\n",
    "# Note that in Python we can represent i by 1j\n",
    "single_qubit_matrix = np.array([\n",
    "    [np.sqrt(1-p),       0         ],\n",
    "    [1j * np.sqrt(p),    1         ]\n",
    "], dtype=complex)\n",
    "\n",
    "# Create a UnitaryGate object from the matrix\n",
    "single_qubit_gate = UnitaryGate(single_qubit_matrix, label=\"MyGate\")\n",
    "\n",
    "# Convert it to a controlled gate (1 control qubit)\n",
    "controlled_gate = single_qubit_gate.control(num_ctrl_qubits=1)\n",
    "\n",
    "# Append the controlled gate\n",
    "# The order of qubits in the list is [control, target]\n",
    "control_qubit = 0\n",
    "target_qubit  = 1\n",
    "qr.append(controlled_gate, [control_qubit, target_qubit])\n",
    "\n",
    "# Draw or print the circuit\n",
    "print(circuit.draw(\"text\"))\n"
   ]
  }
 ],
 "metadata": {
  "kernelspec": {
   "display_name": "Python 3",
   "language": "python",
   "name": "python3"
  },
  "language_info": {
   "codemirror_mode": {
    "name": "ipython",
    "version": 3
   },
   "file_extension": ".py",
   "mimetype": "text/x-python",
   "name": "python",
   "nbconvert_exporter": "python",
   "pygments_lexer": "ipython3",
   "version": "3.13.0"
  }
 },
 "nbformat": 4,
 "nbformat_minor": 2
}
